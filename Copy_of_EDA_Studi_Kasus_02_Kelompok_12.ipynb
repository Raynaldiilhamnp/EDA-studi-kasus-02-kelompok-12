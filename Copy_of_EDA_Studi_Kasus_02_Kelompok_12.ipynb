{
  "nbformat": 4,
  "nbformat_minor": 0,
  "metadata": {
    "colab": {
      "provenance": [],
      "authorship_tag": "ABX9TyMBJNzaHLIA2tNE9Z01y20v",
      "include_colab_link": true
    },
    "kernelspec": {
      "name": "python3",
      "display_name": "Python 3"
    },
    "language_info": {
      "name": "python"
    }
  },
  "cells": [
    {
      "cell_type": "markdown",
      "metadata": {
        "id": "view-in-github",
        "colab_type": "text"
      },
      "source": [
        "<a href=\"https://colab.research.google.com/github/Raynaldiilhamnp/EDA-studi-kasus-02-kelompok-12/blob/main/Copy_of_EDA_Studi_Kasus_02_Kelompok_12.ipynb\" target=\"_parent\"><img src=\"https://colab.research.google.com/assets/colab-badge.svg\" alt=\"Open In Colab\"/></a>"
      ]
    },
    {
      "cell_type": "code",
      "execution_count": null,
      "metadata": {
        "id": "LF0ruDKqS_BQ"
      },
      "outputs": [],
      "source": [
        "print"
      ]
    }
  ]
}